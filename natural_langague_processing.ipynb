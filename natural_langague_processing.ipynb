{
  "nbformat": 4,
  "nbformat_minor": 0,
  "metadata": {
    "colab": {
      "name": "natural_langague_processing",
      "provenance": []
    },
    "kernelspec": {
      "name": "python3",
      "display_name": "Python 3"
    }
  },
  "cells": [
    {
      "cell_type": "markdown",
      "metadata": {
        "id": "lwqBI9mT_Ima"
      },
      "source": [
        "**Processamento de Linguagem Natural com Python**"
      ]
    },
    {
      "cell_type": "code",
      "metadata": {
        "id": "w0eior2M-0_n"
      },
      "source": [
        "import nltk\n",
        "\n",
        "nltk.download('stopwords')\n",
        "nltk.download('wordnet')\n",
        "nltk.download('punkt')\n",
        "nltk.download('averaged_perceptron_tagger')\n",
        "nltk.download('rslp')"
      ],
      "execution_count": null,
      "outputs": []
    },
    {
      "cell_type": "code",
      "metadata": {
        "id": "Am7V9smiFIXr"
      },
      "source": [
        "#Calcula a frequência das palavras informadas no parâmetro\n",
        "def sortFreqDict(freqDict):\n",
        "  aux = [(freqDict[key], key) for key in freqDict] #Converte os elementos do dicionário para uma lista\n",
        "  aux.sort() #Ordena a lista\n",
        "  aux.reverse() #Ordena em ordem inversa (decrescente)\n",
        "\n",
        "  return aux\n"
      ],
      "execution_count": null,
      "outputs": []
    },
    {
      "cell_type": "code",
      "metadata": {
        "id": "tCGmmpt5BUFS"
      },
      "source": [
        "#Frase para começar a analisar o texto\n",
        "frase = \"O curso de TADS é excelente para aprender vários aspectos sobre TI. Neste curso, as disciplinas estao todas conectadas de alguma forma, mesmo que implicitamente.\""
      ],
      "execution_count": null,
      "outputs": []
    },
    {
      "cell_type": "code",
      "metadata": {
        "id": "y_pHbEVEB6GT",
        "colab": {
          "base_uri": "https://localhost:8080/",
          "height": 510
        },
        "outputId": "4c4b73ba-cba0-4559-9a06-562b54f9fab4"
      },
      "source": [
        "#Tokenize - Separar uma frase em palavras (tokens)\n",
        "palavras = nltk.word_tokenize(frase)\n",
        "palavras"
      ],
      "execution_count": null,
      "outputs": [
        {
          "output_type": "execute_result",
          "data": {
            "text/plain": [
              "['O',\n",
              " 'curso',\n",
              " 'de',\n",
              " 'TADS',\n",
              " 'é',\n",
              " 'excelente',\n",
              " 'para',\n",
              " 'aprender',\n",
              " 'vários',\n",
              " 'aspectos',\n",
              " 'sobre',\n",
              " 'TI',\n",
              " '.',\n",
              " 'Neste',\n",
              " 'curso',\n",
              " ',',\n",
              " 'as',\n",
              " 'disciplinas',\n",
              " 'estao',\n",
              " 'todas',\n",
              " 'conectadas',\n",
              " 'de',\n",
              " 'alguma',\n",
              " 'forma',\n",
              " ',',\n",
              " 'mesmo',\n",
              " 'que',\n",
              " 'implicitamente',\n",
              " '.']"
            ]
          },
          "metadata": {
            "tags": []
          },
          "execution_count": 35
        }
      ]
    },
    {
      "cell_type": "code",
      "metadata": {
        "id": "UmWdmutBJ8OA",
        "colab": {
          "base_uri": "https://localhost:8080/",
          "height": 442
        },
        "outputId": "7eac0881-9f89-495d-e238-f228f83ab8f6"
      },
      "source": [
        "#Calcular a frequência das palavras\n",
        "frequencia = nltk.FreqDist(palavras)\n",
        "frequencia"
      ],
      "execution_count": null,
      "outputs": [
        {
          "output_type": "execute_result",
          "data": {
            "text/plain": [
              "FreqDist({',': 2,\n",
              "          '.': 2,\n",
              "          'Neste': 1,\n",
              "          'O': 1,\n",
              "          'TADS': 1,\n",
              "          'TI': 1,\n",
              "          'alguma': 1,\n",
              "          'aprender': 1,\n",
              "          'as': 1,\n",
              "          'aspectos': 1,\n",
              "          'conectadas': 1,\n",
              "          'curso': 2,\n",
              "          'de': 2,\n",
              "          'disciplinas': 1,\n",
              "          'estao': 1,\n",
              "          'excelente': 1,\n",
              "          'forma': 1,\n",
              "          'implicitamente': 1,\n",
              "          'mesmo': 1,\n",
              "          'para': 1,\n",
              "          'que': 1,\n",
              "          'sobre': 1,\n",
              "          'todas': 1,\n",
              "          'vários': 1,\n",
              "          'é': 1})"
            ]
          },
          "metadata": {
            "tags": []
          },
          "execution_count": 36
        }
      ]
    },
    {
      "cell_type": "code",
      "metadata": {
        "id": "rZPHl-TVDB4G"
      },
      "source": [
        "#Calcular a frequência das palavras\n",
        "frequencia = nltk.FreqDist(palavras)\n",
        "frequencia"
      ],
      "execution_count": null,
      "outputs": []
    },
    {
      "cell_type": "code",
      "metadata": {
        "id": "zCg6aHcAIBFO",
        "colab": {
          "base_uri": "https://localhost:8080/",
          "height": 442
        },
        "outputId": "dcac5583-1b00-400e-dfe1-51e0429b0630"
      },
      "source": [
        "sortFreqDict(frequencia)"
      ],
      "execution_count": null,
      "outputs": [
        {
          "output_type": "execute_result",
          "data": {
            "text/plain": [
              "[(2, 'de'),\n",
              " (2, 'curso'),\n",
              " (2, '.'),\n",
              " (2, ','),\n",
              " (1, 'é'),\n",
              " (1, 'vários'),\n",
              " (1, 'todas'),\n",
              " (1, 'sobre'),\n",
              " (1, 'que'),\n",
              " (1, 'para'),\n",
              " (1, 'mesmo'),\n",
              " (1, 'implicitamente'),\n",
              " (1, 'forma'),\n",
              " (1, 'excelente'),\n",
              " (1, 'estao'),\n",
              " (1, 'disciplinas'),\n",
              " (1, 'conectadas'),\n",
              " (1, 'aspectos'),\n",
              " (1, 'as'),\n",
              " (1, 'aprender'),\n",
              " (1, 'alguma'),\n",
              " (1, 'TI'),\n",
              " (1, 'TADS'),\n",
              " (1, 'O'),\n",
              " (1, 'Neste')]"
            ]
          },
          "metadata": {
            "tags": []
          },
          "execution_count": 40
        }
      ]
    },
    {
      "cell_type": "code",
      "metadata": {
        "id": "ogFqytpgKU19",
        "colab": {
          "base_uri": "https://localhost:8080/",
          "height": 281
        },
        "outputId": "66c6baa6-9087-4212-f527-484605ee7df6"
      },
      "source": [
        "import numpy as np\n",
        "import matplotlib.pyplot as plt\n",
        "\n",
        "palavras = frequencia.keys()\n",
        "y_pos = np.arange(len(palavras))\n",
        "contagem = frequencia.values()\n",
        "plt.bar(y_pos, contagem, align='center', alpha=0.5)\n",
        "plt.xticks(y_pos, palavras)\n",
        "plt.ylabel('Frequencia')\n",
        "plt.title('Frequencia das palavras na frase')\n",
        "plt.show()"
      ],
      "execution_count": null,
      "outputs": [
        {
          "output_type": "display_data",
          "data": {
            "image/png": "[encoded data removed]",
            "text/plain": [
              "<Figure size 432x288 with 1 Axes>"
            ]
          },
          "metadata": {
            "tags": [],
            "needs_background": "light"
          }
        }
      ]
    },
    {
      "cell_type": "code",
      "metadata": {
        "id": "IAzLCh7rMIIQ",
        "colab": {
          "base_uri": "https://localhost:8080/",
          "height": 35
        },
        "outputId": "b96bf847-c989-4a43-b49a-45b5afb1479f"
      },
      "source": [
        "#Calculando prefixos (lexemas) - Stemmer\n",
        "#Exemplo com a palavra curso\n",
        "\n",
        "stm = nltk.RSLPStemmer() #cria um objeto de stemmer\n",
        "stm.stem('curso')"
      ],
      "execution_count": null,
      "outputs": [
        {
          "output_type": "execute_result",
          "data": {
            "application/vnd.google.colaboratory.intrinsic+json": {
              "type": "string"
            },
            "text/plain": [
              "'curs'"
            ]
          },
          "metadata": {
            "tags": []
          },
          "execution_count": 42
        }
      ]
    },
    {
      "cell_type": "code",
      "metadata": {
        "id": "UG1rhxIaNEU5"
      },
      "source": [
        "lista = ['casamento', 'casa', 'casado', 'casei', 'cansado']"
      ],
      "execution_count": null,
      "outputs": []
    }
  ]
}